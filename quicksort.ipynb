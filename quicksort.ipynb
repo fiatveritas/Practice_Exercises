{
 "cells": [
  {
   "cell_type": "code",
   "execution_count": 1,
   "metadata": {},
   "outputs": [],
   "source": [
    "import quicksort as qs\n",
    "import random"
   ]
  },
  {
   "cell_type": "code",
   "execution_count": 2,
   "metadata": {},
   "outputs": [],
   "source": [
    "null_array = []"
   ]
  },
  {
   "cell_type": "code",
   "execution_count": 3,
   "metadata": {},
   "outputs": [
    {
     "name": "stdout",
     "output_type": "stream",
     "text": [
      "Pass in an empty list. []\n"
     ]
    }
   ],
   "source": [
    "print(\"Pass in an empty list.\", qs.quicksort(null_array))"
   ]
  },
  {
   "cell_type": "code",
   "execution_count": 4,
   "metadata": {},
   "outputs": [],
   "source": [
    "array_len_one = [0]"
   ]
  },
  {
   "cell_type": "code",
   "execution_count": 5,
   "metadata": {},
   "outputs": [
    {
     "name": "stdout",
     "output_type": "stream",
     "text": [
      "Pass in a list with one element. [0]\n"
     ]
    }
   ],
   "source": [
    "print(\"Pass in a list with one element.\", qs.quicksort(array_len_one))"
   ]
  },
  {
   "cell_type": "code",
   "execution_count": 6,
   "metadata": {},
   "outputs": [
    {
     "name": "stdout",
     "output_type": "stream",
     "text": [
      "seed: 0\n",
      "Random list. [49, 97, 53, 5, 33, 65, 62, 51, 38, 61]\n",
      "Sorted: [5, 33, 38, 49, 51, 53, 61, 62, 65, 97] \n",
      "\n",
      "seed: 1\n",
      "Random list. [17, 72, 97, 8, 32, 15, 63, 57, 60, 83]\n",
      "Sorted: [8, 15, 17, 32, 57, 60, 63, 72, 83, 97] \n",
      "\n",
      "seed: 2\n",
      "Random list. [7, 11, 10, 46, 21, 94, 85, 39, 32, 77]\n",
      "Sorted: [7, 10, 11, 21, 32, 39, 46, 77, 85, 94] \n",
      "\n",
      "seed: 3\n",
      "Random list. [30, 75, 69, 16, 47, 77, 60, 80, 74, 8]\n",
      "Sorted: [8, 16, 30, 47, 60, 69, 74, 75, 77, 80] \n",
      "\n",
      "seed: 4\n",
      "Random list. [30, 38, 13, 92, 50, 61, 19, 11, 8, 2]\n",
      "Sorted: [2, 8, 11, 13, 19, 30, 38, 50, 61, 92] \n",
      "\n",
      "seed: 5\n",
      "Random list. [79, 32, 94, 45, 88, 83, 67, 3, 59, 99]\n",
      "Sorted: [3, 32, 45, 59, 67, 79, 83, 88, 94, 99] \n",
      "\n",
      "seed: 6\n",
      "Random list. [73, 10, 62, 97, 33, 4, 0, 18, 84, 75]\n",
      "Sorted: [0, 4, 10, 18, 33, 62, 73, 75, 84, 97] \n",
      "\n",
      "seed: 7\n",
      "Random list. [41, 19, 50, 83, 6, 9, 68, 12, 46, 74]\n",
      "Sorted: [6, 9, 12, 19, 41, 46, 50, 68, 74, 83] \n",
      "\n",
      "seed: 8\n",
      "Random list. [29, 47, 48, 16, 24, 90, 5, 10, 17, 31]\n",
      "Sorted: [5, 10, 16, 17, 24, 29, 31, 47, 48, 90] \n",
      "\n",
      "seed: 9\n",
      "Random list. [59, 78, 47, 34, 17, 23, 86, 0, 43, 64]\n",
      "Sorted: [0, 17, 23, 34, 43, 47, 59, 64, 78, 86] \n",
      "\n"
     ]
    }
   ],
   "source": [
    "for i in range(10):\n",
    "    print(\"seed:\", i)\n",
    "    random.seed(a = i)\n",
    "    test_array = random.sample(range(0, 100), 10)\n",
    "    print(\"Random list.\", test_array)\n",
    "    print(\"Sorted:\", qs.quicksort(test_array), \"\\n\")"
   ]
  }
 ],
 "metadata": {
  "kernelspec": {
   "display_name": "Python 3",
   "language": "python",
   "name": "python3"
  },
  "language_info": {
   "codemirror_mode": {
    "name": "ipython",
    "version": 3
   },
   "file_extension": ".py",
   "mimetype": "text/x-python",
   "name": "python",
   "nbconvert_exporter": "python",
   "pygments_lexer": "ipython3",
   "version": "3.7.0"
  }
 },
 "nbformat": 4,
 "nbformat_minor": 2
}
